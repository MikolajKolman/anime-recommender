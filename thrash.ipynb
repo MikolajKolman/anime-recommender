{
 "cells": [
  {
   "cell_type": "code",
   "execution_count": null,
   "metadata": {},
   "outputs": [],
   "source": [
    "# TODO\n",
    "# def - members url (anime_id, anime_title)\n",
    "# find end condition\n",
    "class RankingUsersScraper:\n",
    "\n",
    "    members_step = 75\n",
    "\n",
    "    def __init__(self, anime: dict) -> None:\n",
    "        anime_id = anime['id']\n",
    "        anime_name_url = anime['title']\n",
    "        anime_name_url = re.sub(r'[^a-zA-Z]', '_', anime_name_url)\n",
    "        self.anime_url_part1 = 'https://myanimelist.net/anime/' + anime_id + '/' + anime_name_url + 'stats?m=all&show='\n",
    "        self.anime_url_part2 = '#members'\n",
    "        self.members_i = 0\n",
    "\n",
    "    def scrape_anime_members(self):\n",
    "        "
   ]
  }
 ],
 "metadata": {
  "language_info": {
   "name": "python"
  },
  "orig_nbformat": 4
 },
 "nbformat": 4,
 "nbformat_minor": 2
}
